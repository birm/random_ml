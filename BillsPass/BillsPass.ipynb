{
 "cells": [
  {
   "cell_type": "markdown",
   "metadata": {},
   "source": [
    "# Bills Pass\n",
    "This project aims to predict if a bill will pass by its text content alone."
   ]
  },
  {
   "cell_type": "markdown",
   "metadata": {},
   "source": [
    "## The Data\n",
    "Data obtained from the openstates api, using getBills.py. Saved into gaBills#.csv"
   ]
  },
  {
   "cell_type": "code",
   "execution_count": 1,
   "metadata": {},
   "outputs": [
    {
     "name": "stdout",
     "output_type": "stream",
     "text": [
      "1222\n"
     ]
    }
   ],
   "source": [
    "# csv has big text; allow it\n",
    "import sys\n",
    "import csv\n",
    "\n",
    "csv.field_size_limit(sys.maxsize)\n",
    "\n",
    "files = [\"gaBills0.csv\", \"gaBills1.csv\", \"gaBills2.csv\", \"gaBills3.csv\"]\n",
    "bills = []\n",
    "for f in files:\n",
    "    with open(f, \"r\", newline='')  as inputFile:\n",
    "        bills += list(csv.DictReader(inputFile))\n",
    "\n",
    "# how many bills do we have to work with? \n",
    "print(len(bills))        "
   ]
  },
  {
   "cell_type": "markdown",
   "metadata": {},
   "source": [
    "Let's look at a bill."
   ]
  },
  {
   "cell_type": "code",
   "execution_count": 2,
   "metadata": {},
   "outputs": [
    {
     "name": "stdout",
     "output_type": "stream",
     "text": [
      "OrderedDict([('status', 'Effective Date'), ('passDate', '2020-06-22'), ('text', 'HB 894/AP H. B. 894- 1 -House Bill 894 (AS PASSED HOUSE AND SENATE)By: Representatives Meeks of the 178 th, McCall of the 33 rd, Corbett of the 174 th, Houston ofthe 170th, Pirkle of the 155th, and others A BILL TO BE ENTITLEDAN ACTTo amend Code Section 2-4-3 of the Official Code of Georgia Annotated, relating to Seed1Development Commission composition, officers, bylaws, quorum, compensation, records, audit, and bonds, so as to stagger the terms  of commission members; to provide for related matters; to provide for an effective date; to repeal conflicting laws; and for other purposes. BE IT ENACTED BY THE GENERAL ASSEMBLY OF GEORGIA:5SECTION 1.6Code Section 2-4-3 of the Official Code of Georgia Annotated, relating to Seed Development Commission composition, officers, bylaws, quorum, compensation, records, audit, and bonds, is amended by revising subsections (b) and (c) as follows: (b)  The commission shall be composed of the following 11 members: (1)(A)  Two members to be appointed by the Governor, each of whom shall be a licensee or shall be otherwise involved in the production, conditioning, or marketing of crops, seed, turfgrass, or horticultural plants;.13(B)  No later than May 31, 2021, the Governor shall appoint two members as provided for in subparagraph (A) of this paragra ph whose terms shall begin on July 1, 2021, and such members and their successors shall serve terms of four years.  The terms of the members appointed as provided for in subparagraph (A) of this paragraph and serving as of June 30, 2021, shall terminate on that date; (2)(A)  One member who shall be a licensee or shall be otherwise involved in the production, conditioning, or marketing of crops, seed, turfgrass, or horticultural plants, to be appointed by the Lieutenant Governor;.21(B)  No later than May 31, 2021, the Lieutenant Governor shall appoint a member as provided for in subparagraph (A) of this paragraph whose term shall begin on July 1, 2021, and such member shall serve a single term of five years.  The successors to the member whose term ends on June 30, 2026, shall serve terms of four years that begin on July 1 of the year of their appointment.  The term of the member appointed as HB 894/AP H. B. 894- 2 -provided for in subparagraph (A) of this paragraph and serving as of June 30, 2021, shall terminate on that date; (3)(A)  One member who shall be a licensee or shall be otherwise involved in the production, conditioning, or marketing of crops, seed, turfgrass, or horticultural plants, to be appointed by the Speaker of the House of Representatives;.31(B)  No later than May 31, 2021, the Speaker  of the House of Representatives shall appoint a member as provided for in subparagraph (A) of this paragraph whose term shall begin on July 1, 2021, and such member shall serve a single term of five years. The successors to the member whose term ends on June 30, 2026, shall serve terms of four years that begin on July 1 of the year of their appointment.  The term of the member appointed as provided for in subparagraph (A) of this paragraph and serving as of June 30, 2021, shall terminate on that date; (4)  The Commissioner of Agriculture or his or her designee ;39(5)(A)  Two representatives of the crop, seed, turfgrass, or horticultural plant industry or of farm related organizations, one of whom shall be appointed by the Senate Agriculture and Consumer Affairs Committee, and one of whom shall be appointed by the House Committee on Agriculture and Consumer Affairs.  Such representatives shall be licensees or shall otherwise have knowledge of the production, conditioning, or marketing of crops, seed, turfgrass, or horticultural plants.  Each committee shall make its appointment with a quorum present and a majority of those present concurring; (B)  No later than May 31, 2022, two members shall be appointed as provided for in subparagraph (A) of this paragraph whose terms shall begin on July 1, 2022, and such members shall serve a single term of six years.  The successors to the two members whose terms end on June 30, 2028, shall serve terms of four years that begin on July of the year of their appointment.  The  terms of the members appointed as provided for in subparagraph (A) of this paragraph and serving as of June, 30, 2021, shall terminate on that date; (6)(A)  One member who shall be a licensee or shall be otherwise involved in the production, conditioning, or marketing of crops, seed, turfgrass, or horticultural plants, to be appointed by the Commissioner of Agriculture; (B)  No later than May 31, 2022, the Commissioner of Agriculture shall appoint a member as provided for in subparagraph (A)  of this paragraph whose term shall begin on July 1, 2022, and such member shall serve a single term of five years.  The successors to the member whose term ends on June 30, 2027, shall serve terms of four years that begin on July 1 of the year of their appointment.  The term of the member appointed as provided for in subparagraph (A) of this paragraph and serving as of June , 2021, shall terminate on that date; HB 894/AP H. B. 894- 3 -(7)  The dean of the College of Agricultural and Environmental Sciences of the University of Georgia;65(8)  The associate dean for research of the College of Agricultural and Environmental Sciences of the University of Georgia, as a nonvoting member; and (9)(A)  An additional nonvoting member who is a crop, seed, turfgrass, or horticultural plant breeder employed by the College of Agricultural and Environmental Sciences of the University of Georgia, appointed by the dean of the College of Agricultural and Environmental Sciences of the University of Georgia, after consultation with the commission. (B)  No later than May 31, 2022, the dean of the College of Agricultural and Environmental Sciences of the University of Georgia shall appoint a member as provided for in subparagraph (A) of this paragraph whose term shall begin on July 1, 2022, and such member shall serve a single term of five years.  The successors to the member whose term ends on June 30, 2027, shall serve terms of four years that begin on July 1 of the year of their appointment.  The term of the member appointed as provided for in subparagraph (A) of this paragraph and serving as of June 30, 2021, shall terminate on that date. (c)  The members of the commission shall enter upon their duties without further act or formality.  The commission shall organize each even-numbered odd-numbered year at the meeting next following July 1 of such year, at which time the commission shall elect one of its members as chairperson and another as vice chairperson.  It shall also elect a secretary and a treasurer, who need not be memb ers.  The offices of secretary and treasurer may be combined in one person.  The commission may make such bylaws for its government as it deems necessary but is under no duty to do so. SECTION 2.88This Act shall become effective on January 1, 2021. SECTION 3.90All laws and parts of laws in conflict with this Act are repealed.91')])\n"
     ]
    }
   ],
   "source": [
    "print(bills[222])"
   ]
  },
  {
   "cell_type": "markdown",
   "metadata": {},
   "source": [
    "For now, I only care about if a bill has passed, so let's do some cleaning/preparation."
   ]
  },
  {
   "cell_type": "code",
   "execution_count": 3,
   "metadata": {},
   "outputs": [
    {
     "name": "stdout",
     "output_type": "stream",
     "text": [
      "OrderedDict([('text', 'HB 894/AP H. B. 894- 1 -House Bill 894 (AS PASSED HOUSE AND SENATE)By: Representatives Meeks of the 178 th, McCall of the 33 rd, Corbett of the 174 th, Houston ofthe 170th, Pirkle of the 155th, and others A BILL TO BE ENTITLEDAN ACTTo amend Code Section 2-4-3 of the Official Code of Georgia Annotated, relating to Seed1Development Commission composition, officers, bylaws, quorum, compensation, records, audit, and bonds, so as to stagger the terms  of commission members; to provide for related matters; to provide for an effective date; to repeal conflicting laws; and for other purposes. BE IT ENACTED BY THE GENERAL ASSEMBLY OF GEORGIA:5SECTION 1.6Code Section 2-4-3 of the Official Code of Georgia Annotated, relating to Seed Development Commission composition, officers, bylaws, quorum, compensation, records, audit, and bonds, is amended by revising subsections (b) and (c) as follows: (b)  The commission shall be composed of the following 11 members: (1)(A)  Two members to be appointed by the Governor, each of whom shall be a licensee or shall be otherwise involved in the production, conditioning, or marketing of crops, seed, turfgrass, or horticultural plants;.13(B)  No later than May 31, 2021, the Governor shall appoint two members as provided for in subparagraph (A) of this paragra ph whose terms shall begin on July 1, 2021, and such members and their successors shall serve terms of four years.  The terms of the members appointed as provided for in subparagraph (A) of this paragraph and serving as of June 30, 2021, shall terminate on that date; (2)(A)  One member who shall be a licensee or shall be otherwise involved in the production, conditioning, or marketing of crops, seed, turfgrass, or horticultural plants, to be appointed by the Lieutenant Governor;.21(B)  No later than May 31, 2021, the Lieutenant Governor shall appoint a member as provided for in subparagraph (A) of this paragraph whose term shall begin on July 1, 2021, and such member shall serve a single term of five years.  The successors to the member whose term ends on June 30, 2026, shall serve terms of four years that begin on July 1 of the year of their appointment.  The term of the member appointed as HB 894/AP H. B. 894- 2 -provided for in subparagraph (A) of this paragraph and serving as of June 30, 2021, shall terminate on that date; (3)(A)  One member who shall be a licensee or shall be otherwise involved in the production, conditioning, or marketing of crops, seed, turfgrass, or horticultural plants, to be appointed by the Speaker of the House of Representatives;.31(B)  No later than May 31, 2021, the Speaker  of the House of Representatives shall appoint a member as provided for in subparagraph (A) of this paragraph whose term shall begin on July 1, 2021, and such member shall serve a single term of five years. The successors to the member whose term ends on June 30, 2026, shall serve terms of four years that begin on July 1 of the year of their appointment.  The term of the member appointed as provided for in subparagraph (A) of this paragraph and serving as of June 30, 2021, shall terminate on that date; (4)  The Commissioner of Agriculture or his or her designee ;39(5)(A)  Two representatives of the crop, seed, turfgrass, or horticultural plant industry or of farm related organizations, one of whom shall be appointed by the Senate Agriculture and Consumer Affairs Committee, and one of whom shall be appointed by the House Committee on Agriculture and Consumer Affairs.  Such representatives shall be licensees or shall otherwise have knowledge of the production, conditioning, or marketing of crops, seed, turfgrass, or horticultural plants.  Each committee shall make its appointment with a quorum present and a majority of those present concurring; (B)  No later than May 31, 2022, two members shall be appointed as provided for in subparagraph (A) of this paragraph whose terms shall begin on July 1, 2022, and such members shall serve a single term of six years.  The successors to the two members whose terms end on June 30, 2028, shall serve terms of four years that begin on July of the year of their appointment.  The  terms of the members appointed as provided for in subparagraph (A) of this paragraph and serving as of June, 30, 2021, shall terminate on that date; (6)(A)  One member who shall be a licensee or shall be otherwise involved in the production, conditioning, or marketing of crops, seed, turfgrass, or horticultural plants, to be appointed by the Commissioner of Agriculture; (B)  No later than May 31, 2022, the Commissioner of Agriculture shall appoint a member as provided for in subparagraph (A)  of this paragraph whose term shall begin on July 1, 2022, and such member shall serve a single term of five years.  The successors to the member whose term ends on June 30, 2027, shall serve terms of four years that begin on July 1 of the year of their appointment.  The term of the member appointed as provided for in subparagraph (A) of this paragraph and serving as of June , 2021, shall terminate on that date; HB 894/AP H. B. 894- 3 -(7)  The dean of the College of Agricultural and Environmental Sciences of the University of Georgia;65(8)  The associate dean for research of the College of Agricultural and Environmental Sciences of the University of Georgia, as a nonvoting member; and (9)(A)  An additional nonvoting member who is a crop, seed, turfgrass, or horticultural plant breeder employed by the College of Agricultural and Environmental Sciences of the University of Georgia, appointed by the dean of the College of Agricultural and Environmental Sciences of the University of Georgia, after consultation with the commission. (B)  No later than May 31, 2022, the dean of the College of Agricultural and Environmental Sciences of the University of Georgia shall appoint a member as provided for in subparagraph (A) of this paragraph whose term shall begin on July 1, 2022, and such member shall serve a single term of five years.  The successors to the member whose term ends on June 30, 2027, shall serve terms of four years that begin on July 1 of the year of their appointment.  The term of the member appointed as provided for in subparagraph (A) of this paragraph and serving as of June 30, 2021, shall terminate on that date. (c)  The members of the commission shall enter upon their duties without further act or formality.  The commission shall organize each even-numbered odd-numbered year at the meeting next following July 1 of such year, at which time the commission shall elect one of its members as chairperson and another as vice chairperson.  It shall also elect a secretary and a treasurer, who need not be memb ers.  The offices of secretary and treasurer may be combined in one person.  The commission may make such bylaws for its government as it deems necessary but is under no duty to do so. SECTION 2.88This Act shall become effective on January 1, 2021. SECTION 3.90All laws and parts of laws in conflict with this Act are repealed.91'), ('passed', 1)])\n"
     ]
    }
   ],
   "source": [
    "def prepareBill(bill):\n",
    "    del bill[\"status\"]\n",
    "    if bill[\"passDate\"]:\n",
    "        bill[\"passed\"] = 1\n",
    "    else:\n",
    "        bill[\"passed\"] = 0\n",
    "    del bill[\"passDate\"]\n",
    "    return bill\n",
    "\n",
    "cleanedBills = [x for x in map(prepareBill, bills)]\n",
    "print(cleanedBills[222])\n"
   ]
  },
  {
   "cell_type": "markdown",
   "metadata": {},
   "source": [
    "How many bills have been passed, though?"
   ]
  },
  {
   "cell_type": "code",
   "execution_count": 4,
   "metadata": {},
   "outputs": [
    {
     "name": "stdout",
     "output_type": "stream",
     "text": [
      "949\n"
     ]
    }
   ],
   "source": [
    "print(len([x for x in cleanedBills if x['passed'] == 1]))"
   ]
  },
  {
   "cell_type": "markdown",
   "metadata": {},
   "source": [
    "That's higher than I expected. Let's move onto..."
   ]
  },
  {
   "cell_type": "markdown",
   "metadata": {},
   "source": [
    "## The Model"
   ]
  },
  {
   "cell_type": "code",
   "execution_count": 5,
   "metadata": {},
   "outputs": [
    {
     "name": "stderr",
     "output_type": "stream",
     "text": [
      "/home/ryan/.local/lib/python3.6/site-packages/tensorflow/python/framework/dtypes.py:516: FutureWarning: Passing (type, 1) or '1type' as a synonym of type is deprecated; in a future version of numpy, it will be understood as (type, (1,)) / '(1,)type'.\n",
      "  _np_qint8 = np.dtype([(\"qint8\", np.int8, 1)])\n",
      "/home/ryan/.local/lib/python3.6/site-packages/tensorflow/python/framework/dtypes.py:517: FutureWarning: Passing (type, 1) or '1type' as a synonym of type is deprecated; in a future version of numpy, it will be understood as (type, (1,)) / '(1,)type'.\n",
      "  _np_quint8 = np.dtype([(\"quint8\", np.uint8, 1)])\n",
      "/home/ryan/.local/lib/python3.6/site-packages/tensorflow/python/framework/dtypes.py:518: FutureWarning: Passing (type, 1) or '1type' as a synonym of type is deprecated; in a future version of numpy, it will be understood as (type, (1,)) / '(1,)type'.\n",
      "  _np_qint16 = np.dtype([(\"qint16\", np.int16, 1)])\n",
      "/home/ryan/.local/lib/python3.6/site-packages/tensorflow/python/framework/dtypes.py:519: FutureWarning: Passing (type, 1) or '1type' as a synonym of type is deprecated; in a future version of numpy, it will be understood as (type, (1,)) / '(1,)type'.\n",
      "  _np_quint16 = np.dtype([(\"quint16\", np.uint16, 1)])\n",
      "/home/ryan/.local/lib/python3.6/site-packages/tensorflow/python/framework/dtypes.py:520: FutureWarning: Passing (type, 1) or '1type' as a synonym of type is deprecated; in a future version of numpy, it will be understood as (type, (1,)) / '(1,)type'.\n",
      "  _np_qint32 = np.dtype([(\"qint32\", np.int32, 1)])\n",
      "/home/ryan/.local/lib/python3.6/site-packages/tensorflow/python/framework/dtypes.py:525: FutureWarning: Passing (type, 1) or '1type' as a synonym of type is deprecated; in a future version of numpy, it will be understood as (type, (1,)) / '(1,)type'.\n",
      "  np_resource = np.dtype([(\"resource\", np.ubyte, 1)])\n",
      "/home/ryan/.local/lib/python3.6/site-packages/tensorboard/compat/tensorflow_stub/dtypes.py:541: FutureWarning: Passing (type, 1) or '1type' as a synonym of type is deprecated; in a future version of numpy, it will be understood as (type, (1,)) / '(1,)type'.\n",
      "  _np_qint8 = np.dtype([(\"qint8\", np.int8, 1)])\n",
      "/home/ryan/.local/lib/python3.6/site-packages/tensorboard/compat/tensorflow_stub/dtypes.py:542: FutureWarning: Passing (type, 1) or '1type' as a synonym of type is deprecated; in a future version of numpy, it will be understood as (type, (1,)) / '(1,)type'.\n",
      "  _np_quint8 = np.dtype([(\"quint8\", np.uint8, 1)])\n",
      "/home/ryan/.local/lib/python3.6/site-packages/tensorboard/compat/tensorflow_stub/dtypes.py:543: FutureWarning: Passing (type, 1) or '1type' as a synonym of type is deprecated; in a future version of numpy, it will be understood as (type, (1,)) / '(1,)type'.\n",
      "  _np_qint16 = np.dtype([(\"qint16\", np.int16, 1)])\n",
      "/home/ryan/.local/lib/python3.6/site-packages/tensorboard/compat/tensorflow_stub/dtypes.py:544: FutureWarning: Passing (type, 1) or '1type' as a synonym of type is deprecated; in a future version of numpy, it will be understood as (type, (1,)) / '(1,)type'.\n",
      "  _np_quint16 = np.dtype([(\"quint16\", np.uint16, 1)])\n",
      "/home/ryan/.local/lib/python3.6/site-packages/tensorboard/compat/tensorflow_stub/dtypes.py:545: FutureWarning: Passing (type, 1) or '1type' as a synonym of type is deprecated; in a future version of numpy, it will be understood as (type, (1,)) / '(1,)type'.\n",
      "  _np_qint32 = np.dtype([(\"qint32\", np.int32, 1)])\n",
      "/home/ryan/.local/lib/python3.6/site-packages/tensorboard/compat/tensorflow_stub/dtypes.py:550: FutureWarning: Passing (type, 1) or '1type' as a synonym of type is deprecated; in a future version of numpy, it will be understood as (type, (1,)) / '(1,)type'.\n",
      "  np_resource = np.dtype([(\"resource\", np.ubyte, 1)])\n"
     ]
    }
   ],
   "source": [
    "import tensorflow as tf\n",
    "import numpy as np\n",
    "import matplotlib.pyplot as plt\n",
    "import random, math\n",
    "\n",
    "def plot_graphs(history, string):\n",
    "  plt.plot(history.history[string])\n",
    "  plt.plot(history.history['val_'+string], '')\n",
    "  plt.xlabel(\"Epochs\")\n",
    "  plt.ylabel(string)\n",
    "  plt.legend([string, 'val_'+string])\n",
    "  plt.show()"
   ]
  },
  {
   "cell_type": "markdown",
   "metadata": {},
   "source": [
    "It's shuffle time!"
   ]
  },
  {
   "cell_type": "code",
   "execution_count": 6,
   "metadata": {},
   "outputs": [
    {
     "name": "stdout",
     "output_type": "stream",
     "text": [
      "Training Examples: 1100 Test Examples: 122\n"
     ]
    }
   ],
   "source": [
    "random.shuffle(cleanedBills)\n",
    "splitNum = int(math.floor(len(cleanedBills)*0.1))\n",
    "testData = cleanedBills[:splitNum]\n",
    "trainData = cleanedBills[splitNum:]\n",
    "print(\"Training Examples: \" + str(len(trainData)) + \" Test Examples: \" + str(len(testData)))"
   ]
  },
  {
   "cell_type": "code",
   "execution_count": 7,
   "metadata": {},
   "outputs": [],
   "source": [
    "tokenizer = tf.keras.preprocessing.text.Tokenizer(num_words=5000)\n",
    "tokenizer.fit_on_texts([x['text'] for x in trainData])\n",
    "tokenizer.fit_on_texts([x['text'] for x in testData])\n",
    "X_train = tokenizer.texts_to_sequences([x['text'] for x in trainData])\n",
    "X_test = tokenizer.texts_to_sequences([x['text'] for x in testData])\n",
    "X_train = tf.keras.preprocessing.sequence.pad_sequences(X_train, padding=\"post\", maxlen=20)\n",
    "X_test = tf.keras.preprocessing.sequence.pad_sequences(X_test, padding=\"post\", maxlen=20)"
   ]
  },
  {
   "cell_type": "code",
   "execution_count": 8,
   "metadata": {},
   "outputs": [
    {
     "name": "stdout",
     "output_type": "stream",
     "text": [
      "WARNING:tensorflow:From /home/ryan/.local/lib/python3.6/site-packages/tensorflow/python/keras/initializers.py:119: calling RandomUniform.__init__ (from tensorflow.python.ops.init_ops) with dtype is deprecated and will be removed in a future version.\n",
      "Instructions for updating:\n",
      "Call initializer instance with the dtype argument instead of passing it to the constructor\n",
      "WARNING:tensorflow:From /home/ryan/.local/lib/python3.6/site-packages/tensorflow/python/ops/init_ops.py:1251: calling VarianceScaling.__init__ (from tensorflow.python.ops.init_ops) with dtype is deprecated and will be removed in a future version.\n",
      "Instructions for updating:\n",
      "Call initializer instance with the dtype argument instead of passing it to the constructor\n",
      "WARNING:tensorflow:From /home/ryan/.local/lib/python3.6/site-packages/tensorflow/python/ops/init_ops.py:97: calling GlorotUniform.__init__ (from tensorflow.python.ops.init_ops) with dtype is deprecated and will be removed in a future version.\n",
      "Instructions for updating:\n",
      "Call initializer instance with the dtype argument instead of passing it to the constructor\n",
      "WARNING:tensorflow:From /home/ryan/.local/lib/python3.6/site-packages/tensorflow/python/ops/init_ops.py:97: calling Orthogonal.__init__ (from tensorflow.python.ops.init_ops) with dtype is deprecated and will be removed in a future version.\n",
      "Instructions for updating:\n",
      "Call initializer instance with the dtype argument instead of passing it to the constructor\n",
      "WARNING:tensorflow:From /home/ryan/.local/lib/python3.6/site-packages/tensorflow/python/ops/init_ops.py:97: calling Zeros.__init__ (from tensorflow.python.ops.init_ops) with dtype is deprecated and will be removed in a future version.\n",
      "Instructions for updating:\n",
      "Call initializer instance with the dtype argument instead of passing it to the constructor\n",
      "WARNING:tensorflow:From /home/ryan/.local/lib/python3.6/site-packages/tensorflow/python/ops/nn_impl.py:180: add_dispatch_support.<locals>.wrapper (from tensorflow.python.ops.array_ops) is deprecated and will be removed in a future version.\n",
      "Instructions for updating:\n",
      "Use tf.where in 2.0, which has the same broadcast rule as np.where\n",
      "Model: \"sequential\"\n",
      "_________________________________________________________________\n",
      "Layer (type)                 Output Shape              Param #   \n",
      "=================================================================\n",
      "embedding (Embedding)        (None, None, 32)          160000    \n",
      "_________________________________________________________________\n",
      "bidirectional (Bidirectional (None, 32)                6272      \n",
      "_________________________________________________________________\n",
      "dense (Dense)                (None, 16)                528       \n",
      "_________________________________________________________________\n",
      "dense_1 (Dense)              (None, 1)                 17        \n",
      "=================================================================\n",
      "Total params: 166,817\n",
      "Trainable params: 166,817\n",
      "Non-trainable params: 0\n",
      "_________________________________________________________________\n",
      "None\n"
     ]
    }
   ],
   "source": [
    "model = tf.keras.Sequential([\n",
    "    tf.keras.layers.Embedding(5000, 32),\n",
    "    tf.keras.layers.Bidirectional(tf.keras.layers.LSTM(16)),\n",
    "    tf.keras.layers.Dense(16, activation='relu'),\n",
    "    tf.keras.layers.Dense(1, activation='sigmoid')\n",
    "])\n",
    "model.compile(loss='binary_crossentropy',\n",
    "              optimizer=tf.keras.optimizers.Adam(1e-4),\n",
    "              metrics=['binary_accuracy'])\n",
    "print(model.summary())"
   ]
  },
  {
   "cell_type": "code",
   "execution_count": 9,
   "metadata": {},
   "outputs": [
    {
     "name": "stdout",
     "output_type": "stream",
     "text": [
      "Epoch 1/100\n",
      "1100/1100 [==============================] - 1s 1ms/sample - loss: 0.6871 - binary_accuracy: 0.7518\n",
      "Epoch 2/100\n",
      "1100/1100 [==============================] - 1s 506us/sample - loss: 0.6738 - binary_accuracy: 0.7791\n",
      "Epoch 3/100\n",
      "1100/1100 [==============================] - 1s 461us/sample - loss: 0.6555 - binary_accuracy: 0.7791\n",
      "Epoch 4/100\n",
      "1100/1100 [==============================] - 1s 476us/sample - loss: 0.6315 - binary_accuracy: 0.7791\n",
      "Epoch 5/100\n",
      "1100/1100 [==============================] - 1s 476us/sample - loss: 0.6009 - binary_accuracy: 0.7791\n",
      "Epoch 6/100\n",
      "1100/1100 [==============================] - 1s 575us/sample - loss: 0.5618 - binary_accuracy: 0.7791\n",
      "Epoch 7/100\n",
      "1100/1100 [==============================] - 1s 587us/sample - loss: 0.5177 - binary_accuracy: 0.7791\n",
      "Epoch 8/100\n",
      "1100/1100 [==============================] - 1s 519us/sample - loss: 0.4844 - binary_accuracy: 0.7791\n",
      "Epoch 9/100\n",
      "1100/1100 [==============================] - 1s 539us/sample - loss: 0.4668 - binary_accuracy: 0.7791\n",
      "Epoch 10/100\n",
      "1100/1100 [==============================] - 1s 493us/sample - loss: 0.4530 - binary_accuracy: 0.7791\n",
      "Epoch 11/100\n",
      "1100/1100 [==============================] - 1s 561us/sample - loss: 0.4416 - binary_accuracy: 0.7791\n",
      "Epoch 12/100\n",
      "1100/1100 [==============================] - 1s 495us/sample - loss: 0.4315 - binary_accuracy: 0.7791\n",
      "Epoch 13/100\n",
      "1100/1100 [==============================] - 1s 505us/sample - loss: 0.4240 - binary_accuracy: 0.7791\n",
      "Epoch 14/100\n",
      "1100/1100 [==============================] - 1s 498us/sample - loss: 0.4161 - binary_accuracy: 0.7791\n",
      "Epoch 15/100\n",
      "1100/1100 [==============================] - 1s 510us/sample - loss: 0.4095 - binary_accuracy: 0.7791\n",
      "Epoch 16/100\n",
      "1100/1100 [==============================] - 1s 516us/sample - loss: 0.4028 - binary_accuracy: 0.7791\n",
      "Epoch 17/100\n",
      "1100/1100 [==============================] - 1s 506us/sample - loss: 0.3967 - binary_accuracy: 0.7818\n",
      "Epoch 18/100\n",
      "1100/1100 [==============================] - 1s 502us/sample - loss: 0.3900 - binary_accuracy: 0.7827\n",
      "Epoch 19/100\n",
      "1100/1100 [==============================] - 1s 521us/sample - loss: 0.3826 - binary_accuracy: 0.7936\n",
      "Epoch 20/100\n",
      "1100/1100 [==============================] - 1s 522us/sample - loss: 0.3753 - binary_accuracy: 0.7964\n",
      "Epoch 21/100\n",
      "1100/1100 [==============================] - 1s 528us/sample - loss: 0.3680 - binary_accuracy: 0.8264\n",
      "Epoch 22/100\n",
      "1100/1100 [==============================] - 1s 524us/sample - loss: 0.3601 - binary_accuracy: 0.8236\n",
      "Epoch 23/100\n",
      "1100/1100 [==============================] - 1s 522us/sample - loss: 0.3525 - binary_accuracy: 0.8336\n",
      "Epoch 24/100\n",
      "1100/1100 [==============================] - 1s 541us/sample - loss: 0.3429 - binary_accuracy: 0.8536\n",
      "Epoch 25/100\n",
      "1100/1100 [==============================] - 1s 516us/sample - loss: 0.3343 - binary_accuracy: 0.8682\n",
      "Epoch 26/100\n",
      "1100/1100 [==============================] - 1s 498us/sample - loss: 0.3254 - binary_accuracy: 0.8718\n",
      "Epoch 27/100\n",
      "1100/1100 [==============================] - 1s 534us/sample - loss: 0.3162 - binary_accuracy: 0.8736\n",
      "Epoch 28/100\n",
      "1100/1100 [==============================] - 1s 561us/sample - loss: 0.3063 - binary_accuracy: 0.8782\n",
      "Epoch 29/100\n",
      "1100/1100 [==============================] - 1s 552us/sample - loss: 0.2955 - binary_accuracy: 0.8891\n",
      "Epoch 30/100\n",
      "1100/1100 [==============================] - 1s 502us/sample - loss: 0.2877 - binary_accuracy: 0.8882\n",
      "Epoch 31/100\n",
      "1100/1100 [==============================] - 1s 494us/sample - loss: 0.2758 - binary_accuracy: 0.8900\n",
      "Epoch 32/100\n",
      "1100/1100 [==============================] - 1s 517us/sample - loss: 0.2651 - binary_accuracy: 0.8918\n",
      "Epoch 33/100\n",
      "1100/1100 [==============================] - 1s 503us/sample - loss: 0.2548 - binary_accuracy: 0.8936\n",
      "Epoch 34/100\n",
      "1100/1100 [==============================] - 1s 542us/sample - loss: 0.2467 - binary_accuracy: 0.8991\n",
      "Epoch 35/100\n",
      "1100/1100 [==============================] - 1s 516us/sample - loss: 0.2392 - binary_accuracy: 0.9045\n",
      "Epoch 36/100\n",
      "1100/1100 [==============================] - 1s 520us/sample - loss: 0.2289 - binary_accuracy: 0.9082\n",
      "Epoch 37/100\n",
      "1100/1100 [==============================] - 1s 521us/sample - loss: 0.2207 - binary_accuracy: 0.9055\n",
      "Epoch 38/100\n",
      "1100/1100 [==============================] - 1s 520us/sample - loss: 0.2116 - binary_accuracy: 0.9118\n",
      "Epoch 39/100\n",
      "1100/1100 [==============================] - 1s 608us/sample - loss: 0.2049 - binary_accuracy: 0.9091\n",
      "Epoch 40/100\n",
      "1100/1100 [==============================] - 1s 514us/sample - loss: 0.2042 - binary_accuracy: 0.9145\n",
      "Epoch 41/100\n",
      "1100/1100 [==============================] - 1s 523us/sample - loss: 0.1927 - binary_accuracy: 0.9164\n",
      "Epoch 42/100\n",
      "1100/1100 [==============================] - 1s 530us/sample - loss: 0.1857 - binary_accuracy: 0.9191\n",
      "Epoch 43/100\n",
      "1100/1100 [==============================] - 1s 524us/sample - loss: 0.1803 - binary_accuracy: 0.9227\n",
      "Epoch 44/100\n",
      "1100/1100 [==============================] - 1s 528us/sample - loss: 0.1762 - binary_accuracy: 0.9218\n",
      "Epoch 45/100\n",
      "1100/1100 [==============================] - 1s 513us/sample - loss: 0.1717 - binary_accuracy: 0.9236\n",
      "Epoch 46/100\n",
      "1100/1100 [==============================] - 1s 541us/sample - loss: 0.1684 - binary_accuracy: 0.9264\n",
      "Epoch 47/100\n",
      "1100/1100 [==============================] - 1s 515us/sample - loss: 0.1703 - binary_accuracy: 0.9191\n",
      "Epoch 48/100\n",
      "1100/1100 [==============================] - 1s 586us/sample - loss: 0.1629 - binary_accuracy: 0.9300\n",
      "Epoch 49/100\n",
      "1100/1100 [==============================] - 1s 544us/sample - loss: 0.1576 - binary_accuracy: 0.9273\n",
      "Epoch 50/100\n",
      "1100/1100 [==============================] - 1s 515us/sample - loss: 0.1636 - binary_accuracy: 0.9327\n",
      "Epoch 51/100\n",
      "1100/1100 [==============================] - 1s 524us/sample - loss: 0.1543 - binary_accuracy: 0.9327\n",
      "Epoch 52/100\n",
      "1100/1100 [==============================] - 1s 533us/sample - loss: 0.1493 - binary_accuracy: 0.9345\n",
      "Epoch 53/100\n",
      "1100/1100 [==============================] - 1s 538us/sample - loss: 0.1471 - binary_accuracy: 0.9336\n",
      "Epoch 54/100\n",
      "1100/1100 [==============================] - 1s 517us/sample - loss: 0.1464 - binary_accuracy: 0.9373\n",
      "Epoch 55/100\n",
      "1100/1100 [==============================] - 1s 530us/sample - loss: 0.1423 - binary_accuracy: 0.9373\n",
      "Epoch 56/100\n",
      "1100/1100 [==============================] - 1s 633us/sample - loss: 0.1406 - binary_accuracy: 0.9364\n",
      "Epoch 57/100\n",
      "1100/1100 [==============================] - 1s 525us/sample - loss: 0.1409 - binary_accuracy: 0.9409\n",
      "Epoch 58/100\n",
      "1100/1100 [==============================] - 1s 605us/sample - loss: 0.1397 - binary_accuracy: 0.9355\n",
      "Epoch 59/100\n",
      "1100/1100 [==============================] - 1s 542us/sample - loss: 0.1371 - binary_accuracy: 0.9455\n",
      "Epoch 60/100\n",
      "1100/1100 [==============================] - 1s 519us/sample - loss: 0.1313 - binary_accuracy: 0.9491\n",
      "Epoch 61/100\n",
      "1100/1100 [==============================] - 1s 532us/sample - loss: 0.1297 - binary_accuracy: 0.9464\n",
      "Epoch 62/100\n",
      "1100/1100 [==============================] - 1s 549us/sample - loss: 0.1293 - binary_accuracy: 0.9491\n",
      "Epoch 63/100\n",
      "1100/1100 [==============================] - 1s 541us/sample - loss: 0.1274 - binary_accuracy: 0.9527\n",
      "Epoch 64/100\n",
      "1100/1100 [==============================] - 1s 571us/sample - loss: 0.1274 - binary_accuracy: 0.9464\n",
      "Epoch 65/100\n",
      "1100/1100 [==============================] - 1s 527us/sample - loss: 0.1264 - binary_accuracy: 0.9536\n",
      "Epoch 66/100\n",
      "1100/1100 [==============================] - 1s 526us/sample - loss: 0.1233 - binary_accuracy: 0.9573\n",
      "Epoch 67/100\n",
      "1100/1100 [==============================] - 1s 586us/sample - loss: 0.1243 - binary_accuracy: 0.9536\n",
      "Epoch 68/100\n",
      "1100/1100 [==============================] - 1s 522us/sample - loss: 0.1229 - binary_accuracy: 0.9473\n",
      "Epoch 69/100\n",
      "1100/1100 [==============================] - 1s 536us/sample - loss: 0.1177 - binary_accuracy: 0.9527\n",
      "Epoch 70/100\n",
      "1100/1100 [==============================] - 1s 524us/sample - loss: 0.1205 - binary_accuracy: 0.9518\n",
      "Epoch 71/100\n",
      "1100/1100 [==============================] - 1s 530us/sample - loss: 0.1194 - binary_accuracy: 0.9509\n",
      "Epoch 72/100\n",
      "1100/1100 [==============================] - 1s 529us/sample - loss: 0.1170 - binary_accuracy: 0.9564\n",
      "Epoch 73/100\n",
      "1100/1100 [==============================] - 1s 529us/sample - loss: 0.1162 - binary_accuracy: 0.9545\n",
      "Epoch 74/100\n",
      "1100/1100 [==============================] - 1s 538us/sample - loss: 0.1138 - binary_accuracy: 0.9545\n",
      "Epoch 75/100\n",
      "1100/1100 [==============================] - 1s 558us/sample - loss: 0.1125 - binary_accuracy: 0.9573\n",
      "Epoch 76/100\n",
      "1100/1100 [==============================] - 1s 534us/sample - loss: 0.1130 - binary_accuracy: 0.9564\n",
      "Epoch 77/100\n",
      "1100/1100 [==============================] - 1s 530us/sample - loss: 0.1094 - binary_accuracy: 0.9591\n",
      "Epoch 78/100\n",
      "1100/1100 [==============================] - 1s 537us/sample - loss: 0.1123 - binary_accuracy: 0.9555\n",
      "Epoch 79/100\n",
      "1100/1100 [==============================] - 1s 539us/sample - loss: 0.1099 - binary_accuracy: 0.9582\n",
      "Epoch 80/100\n",
      "1100/1100 [==============================] - 1s 532us/sample - loss: 0.1094 - binary_accuracy: 0.9555\n",
      "Epoch 81/100\n",
      "1100/1100 [==============================] - 1s 532us/sample - loss: 0.1081 - binary_accuracy: 0.9573\n",
      "Epoch 82/100\n",
      "1100/1100 [==============================] - 1s 566us/sample - loss: 0.1054 - binary_accuracy: 0.9582\n",
      "Epoch 83/100\n",
      "1100/1100 [==============================] - 1s 543us/sample - loss: 0.1060 - binary_accuracy: 0.9591\n",
      "Epoch 84/100\n",
      "1100/1100 [==============================] - 1s 575us/sample - loss: 0.1043 - binary_accuracy: 0.9591\n",
      "Epoch 85/100\n",
      "1100/1100 [==============================] - 1s 527us/sample - loss: 0.1066 - binary_accuracy: 0.9545\n",
      "Epoch 86/100\n",
      "1100/1100 [==============================] - 1s 542us/sample - loss: 0.1037 - binary_accuracy: 0.9582\n",
      "Epoch 87/100\n",
      "1100/1100 [==============================] - 1s 558us/sample - loss: 0.1026 - binary_accuracy: 0.9609\n",
      "Epoch 88/100\n",
      "1100/1100 [==============================] - 1s 551us/sample - loss: 0.1020 - binary_accuracy: 0.9591\n",
      "Epoch 89/100\n",
      "1100/1100 [==============================] - 1s 558us/sample - loss: 0.1010 - binary_accuracy: 0.9600\n",
      "Epoch 90/100\n",
      "1100/1100 [==============================] - 1s 546us/sample - loss: 0.1009 - binary_accuracy: 0.9582\n",
      "Epoch 91/100\n",
      "1100/1100 [==============================] - 1s 558us/sample - loss: 0.1028 - binary_accuracy: 0.9582\n",
      "Epoch 92/100\n",
      "1100/1100 [==============================] - 1s 539us/sample - loss: 0.1016 - binary_accuracy: 0.9564\n",
      "Epoch 93/100\n",
      "1100/1100 [==============================] - 1s 546us/sample - loss: 0.0993 - binary_accuracy: 0.9618\n",
      "Epoch 94/100\n",
      "1100/1100 [==============================] - 1s 561us/sample - loss: 0.1051 - binary_accuracy: 0.9564\n",
      "Epoch 95/100\n",
      "1100/1100 [==============================] - 1s 557us/sample - loss: 0.0978 - binary_accuracy: 0.9600\n",
      "Epoch 96/100\n",
      "1100/1100 [==============================] - 1s 513us/sample - loss: 0.0990 - binary_accuracy: 0.9582\n",
      "Epoch 97/100\n",
      "1100/1100 [==============================] - 1s 547us/sample - loss: 0.0991 - binary_accuracy: 0.9573\n",
      "Epoch 98/100\n",
      "1100/1100 [==============================] - 1s 520us/sample - loss: 0.0975 - binary_accuracy: 0.9591\n",
      "Epoch 99/100\n",
      "1100/1100 [==============================] - 1s 531us/sample - loss: 0.0989 - binary_accuracy: 0.9591\n",
      "Epoch 100/100\n",
      "1100/1100 [==============================] - 1s 514us/sample - loss: 0.0947 - binary_accuracy: 0.9600\n"
     ]
    }
   ],
   "source": [
    "Y_train = [float(x['passed']) for x in trainData]\n",
    "Y_test = [float(y['passed']) for y in testData]\n",
    "h = model.fit(x=X_train, y=np.asarray(Y_train), epochs=100)"
   ]
  },
  {
   "cell_type": "code",
   "execution_count": 10,
   "metadata": {},
   "outputs": [
    {
     "ename": "KeyError",
     "evalue": "'val_loss'",
     "output_type": "error",
     "traceback": [
      "\u001b[0;31m---------------------------------------------------------------------------\u001b[0m",
      "\u001b[0;31mKeyError\u001b[0m                                  Traceback (most recent call last)",
      "\u001b[0;32m<ipython-input-10-dbdbd4eee6e1>\u001b[0m in \u001b[0;36m<module>\u001b[0;34m\u001b[0m\n\u001b[0;32m----> 1\u001b[0;31m \u001b[0mplot_graphs\u001b[0m\u001b[0;34m(\u001b[0m\u001b[0mh\u001b[0m\u001b[0;34m,\u001b[0m \u001b[0;34m'loss'\u001b[0m\u001b[0;34m)\u001b[0m\u001b[0;34m\u001b[0m\u001b[0;34m\u001b[0m\u001b[0m\n\u001b[0m",
      "\u001b[0;32m<ipython-input-5-17b7ba0329ac>\u001b[0m in \u001b[0;36mplot_graphs\u001b[0;34m(history, string)\u001b[0m\n\u001b[1;32m      6\u001b[0m \u001b[0;32mdef\u001b[0m \u001b[0mplot_graphs\u001b[0m\u001b[0;34m(\u001b[0m\u001b[0mhistory\u001b[0m\u001b[0;34m,\u001b[0m \u001b[0mstring\u001b[0m\u001b[0;34m)\u001b[0m\u001b[0;34m:\u001b[0m\u001b[0;34m\u001b[0m\u001b[0;34m\u001b[0m\u001b[0m\n\u001b[1;32m      7\u001b[0m   \u001b[0mplt\u001b[0m\u001b[0;34m.\u001b[0m\u001b[0mplot\u001b[0m\u001b[0;34m(\u001b[0m\u001b[0mhistory\u001b[0m\u001b[0;34m.\u001b[0m\u001b[0mhistory\u001b[0m\u001b[0;34m[\u001b[0m\u001b[0mstring\u001b[0m\u001b[0;34m]\u001b[0m\u001b[0;34m)\u001b[0m\u001b[0;34m\u001b[0m\u001b[0;34m\u001b[0m\u001b[0m\n\u001b[0;32m----> 8\u001b[0;31m   \u001b[0mplt\u001b[0m\u001b[0;34m.\u001b[0m\u001b[0mplot\u001b[0m\u001b[0;34m(\u001b[0m\u001b[0mhistory\u001b[0m\u001b[0;34m.\u001b[0m\u001b[0mhistory\u001b[0m\u001b[0;34m[\u001b[0m\u001b[0;34m'val_'\u001b[0m\u001b[0;34m+\u001b[0m\u001b[0mstring\u001b[0m\u001b[0;34m]\u001b[0m\u001b[0;34m,\u001b[0m \u001b[0;34m''\u001b[0m\u001b[0;34m)\u001b[0m\u001b[0;34m\u001b[0m\u001b[0;34m\u001b[0m\u001b[0m\n\u001b[0m\u001b[1;32m      9\u001b[0m   \u001b[0mplt\u001b[0m\u001b[0;34m.\u001b[0m\u001b[0mxlabel\u001b[0m\u001b[0;34m(\u001b[0m\u001b[0;34m\"Epochs\"\u001b[0m\u001b[0;34m)\u001b[0m\u001b[0;34m\u001b[0m\u001b[0;34m\u001b[0m\u001b[0m\n\u001b[1;32m     10\u001b[0m   \u001b[0mplt\u001b[0m\u001b[0;34m.\u001b[0m\u001b[0mylabel\u001b[0m\u001b[0;34m(\u001b[0m\u001b[0mstring\u001b[0m\u001b[0;34m)\u001b[0m\u001b[0;34m\u001b[0m\u001b[0;34m\u001b[0m\u001b[0m\n",
      "\u001b[0;31mKeyError\u001b[0m: 'val_loss'"
     ]
    },
    {
     "data": {
      "image/png": "[encoded data removed]",
      "text/plain": [
       "<Figure size 432x288 with 1 Axes>"
      ]
     },
     "metadata": {
      "needs_background": "light"
     },
     "output_type": "display_data"
    }
   ],
   "source": [
    "\n",
    "plot_graphs(h, 'loss')"
   ]
  },
  {
   "cell_type": "markdown",
   "metadata": {},
   "source": [
    "## Evaluation"
   ]
  },
  {
   "cell_type": "code",
   "execution_count": 11,
   "metadata": {},
   "outputs": [
    {
     "name": "stdout",
     "output_type": "stream",
     "text": [
      "122/122 [==============================] - 0s 923us/sample - loss: 0.5540 - binary_accuracy: 0.8525\n"
     ]
    }
   ],
   "source": [
    "predictions = model.predict(x=X_test)\n",
    "score = model.evaluate(X_test, np.asarray(Y_test))"
   ]
  },
  {
   "cell_type": "markdown",
   "metadata": {},
   "source": [
    "I'm not convinced that this is a good result, as \"always passes\" would get accuracy of about 0.77. Maybe I'll revisit later."
   ]
  },
  {
   "cell_type": "code",
   "execution_count": null,
   "metadata": {},
   "outputs": [],
   "source": []
  }
 ],
 "metadata": {
  "kernelspec": {
   "display_name": "Python 3",
   "language": "python",
   "name": "python3"
  },
  "language_info": {
   "codemirror_mode": {
    "name": "ipython",
    "version": 3
   },
   "file_extension": ".py",
   "mimetype": "text/x-python",
   "name": "python",
   "nbconvert_exporter": "python",
   "pygments_lexer": "ipython3",
   "version": "3.6.9"
  }
 },
 "nbformat": 4,
 "nbformat_minor": 4
}
